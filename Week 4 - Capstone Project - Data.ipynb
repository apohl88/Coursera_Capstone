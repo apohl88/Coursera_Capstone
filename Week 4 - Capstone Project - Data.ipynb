{
 "cells": [
  {
   "cell_type": "markdown",
   "metadata": {},
   "source": [
    "## Data:"
   ]
  },
  {
   "cell_type": "markdown",
   "metadata": {},
   "source": [
    "The analysis in this notebook will be based on the following requirements of the project to solve the question in hand:\n",
    "\n",
    "* Types of existing restaurants in the area.\n",
    "* Top types of restaurants and other venues in the area.\n",
    "\n",
    "\n",
    "\n",
    "The data was extracted from Foursquare Geolocation DB through the API calls. \n",
    "Foursquare is one of the world leaders on geospatial data and keeps its database fresh and constantly \n",
    "updated with the latest venues. **Problem solution** will come from the analysis on the process by which Data was extracted in raw form and processed into data frames, to be later clustered through machine learning algorithm (k-Means), this will provide a clear vision on what types of venues are in a certain area. Understanding what business types develop on certain areas of the city will supply patterns of how the Salvadoran society consumes or accesses a service."
   ]
  },
  {
   "cell_type": "code",
   "execution_count": null,
   "metadata": {},
   "outputs": [],
   "source": []
  }
 ],
 "metadata": {
  "kernelspec": {
   "display_name": "Python 3",
   "language": "python",
   "name": "python3"
  },
  "language_info": {
   "codemirror_mode": {
    "name": "ipython",
    "version": 3
   },
   "file_extension": ".py",
   "mimetype": "text/x-python",
   "name": "python",
   "nbconvert_exporter": "python",
   "pygments_lexer": "ipython3",
   "version": "3.7.3"
  }
 },
 "nbformat": 4,
 "nbformat_minor": 2
}
