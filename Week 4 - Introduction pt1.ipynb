{
 "cells": [
  {
   "cell_type": "markdown",
   "metadata": {},
   "source": [
    "# Coursera Capstone Project - Battle of the Neighborhoods: \n",
    "# Analysis on San Salvador(Metropolitan Area), El Salvador"
   ]
  },
  {
   "cell_type": "markdown",
   "metadata": {},
   "source": [
    "## Introduction: Business Problem"
   ]
  },
  {
   "cell_type": "markdown",
   "metadata": {},
   "source": [
    "This notebook is a study that analyzes every type of venue and will recommend the best locations to open a restaurant within the Metropolitan area of San Salvador (MASS). This area of El Salvador, contains 14 municipalities which are the following:\n",
    "\n",
    "* San Salvador \n",
    "* Antiguo Cuscatlan\n",
    "* San Marcos\n",
    "* Soypango\n",
    "* Ilopango\n",
    "* San Martin\n",
    "* Tonacatepeque\n",
    "* Ciudad Delgado\n",
    "* Cuscatancingo\n",
    "* Mejicanos\n",
    "* Apopa\n",
    "* Nejapa\n",
    "* Ayutuxtepeque. \n",
    "\n",
    "From the center of San Salvador a radius of 15 KMs is set as a limit with the intention of covering the entire metropolitan area. The radius selection is due to lack of venues registered under the Foursquare database in the center of San Salvador."
   ]
  },
  {
   "cell_type": "code",
   "execution_count": null,
   "metadata": {},
   "outputs": [],
   "source": []
  }
 ],
 "metadata": {
  "kernelspec": {
   "display_name": "Python 3",
   "language": "python",
   "name": "python3"
  },
  "language_info": {
   "codemirror_mode": {
    "name": "ipython",
    "version": 3
   },
   "file_extension": ".py",
   "mimetype": "text/x-python",
   "name": "python",
   "nbconvert_exporter": "python",
   "pygments_lexer": "ipython3",
   "version": "3.7.3"
  }
 },
 "nbformat": 4,
 "nbformat_minor": 2
}
